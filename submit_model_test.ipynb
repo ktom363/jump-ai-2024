{
 "cells": [
  {
   "cell_type": "markdown",
   "metadata": {},
   "source": [
    "# Reproducibililty Test"
   ]
  },
  {
   "cell_type": "markdown",
   "metadata": {},
   "source": [
    "## Import Libraries"
   ]
  },
  {
   "cell_type": "code",
   "execution_count": 1,
   "metadata": {},
   "outputs": [],
   "source": [
    "import os\n",
    "import pandas as pd\n",
    "import numpy as np\n",
    "import random\n",
    "import matplotlib.pyplot as plt\n",
    "import numpy as np\n",
    "\n",
    "import torch\n",
    "import torch.nn as nn\n",
    "import torch.optim as optim\n",
    "\n",
    "from sklearn.metrics import mean_squared_error, r2_score\n",
    "from typing import List\n",
    "from sklearn.model_selection import StratifiedKFold\n",
    "from sklearn.preprocessing import KBinsDiscretizer, StandardScaler\n",
    "from typing import Tuple, Optional"
   ]
  },
  {
   "cell_type": "code",
   "execution_count": 2,
   "metadata": {},
   "outputs": [
    {
     "data": {
      "text/plain": [
       "'2.3.0'"
      ]
     },
     "execution_count": 2,
     "metadata": {},
     "output_type": "execute_result"
    }
   ],
   "source": [
    "torch.__version__"
   ]
  },
  {
   "cell_type": "markdown",
   "metadata": {},
   "source": [
    "## Set Seed"
   ]
  },
  {
   "cell_type": "code",
   "execution_count": 3,
   "metadata": {},
   "outputs": [],
   "source": [
    "CFG = {\n",
    "    'SEED': 316,\n",
    "}"
   ]
  },
  {
   "cell_type": "code",
   "execution_count": 4,
   "metadata": {},
   "outputs": [],
   "source": [
    "# seed 고정\n",
    "def seed_everything(seed):\n",
    "    random.seed(seed)\n",
    "    os.environ['PYTHONHASHSEED'] = str(seed)\n",
    "    np.random.seed(seed)\n",
    "    \n",
    "seed_everything(CFG[\"SEED\"]) # Seed 고정\n",
    "os.environ[\"CUBLAS_WORKSPACE_CONFIG\"]=\":16:8\"\n",
    "torch.use_deterministic_algorithms(True)\n",
    "# device = torch.device('cuda' if torch.cuda.is_available() else 'cpu')\n",
    "device = 'cpu'"
   ]
  },
  {
   "cell_type": "markdown",
   "metadata": {},
   "source": [
    "## Set Hyperparameters Used"
   ]
  },
  {
   "cell_type": "code",
   "execution_count": 5,
   "metadata": {},
   "outputs": [],
   "source": [
    "# retrieved from MLflow\n",
    "learning_rate = 0.00026100256506134736\n",
    "is_fps2048_desc170 = True\n",
    "num_layers = 3\n",
    "layer_ratio = 0.5300733288106988\n",
    "batch_size = 128\n",
    "is_infomax300 = True\n",
    "dropout_rate = 0.5"
   ]
  },
  {
   "cell_type": "markdown",
   "metadata": {},
   "source": [
    "## Load Data"
   ]
  },
  {
   "cell_type": "code",
   "execution_count": 6,
   "metadata": {},
   "outputs": [],
   "source": [
    "class DataHandler:\n",
    "    \n",
    "    def __init__(self, feature_version, path_data):\n",
    "        self.feature_version = feature_version\n",
    "        self.path_data = path_data\n",
    "        self.fps2048_desc170 = None\n",
    "        self.infomax300 = None\n",
    "        self.bindaff = None\n",
    "        self.y_train = None\n",
    "        self.load_all_data()\n",
    "        self.scaler = None\n",
    "\n",
    "    def load_all_data(self):\n",
    "        self.fps2048_desc170 = np.load(os.path.join(self.path_data, f\"X_train.{feature_version}.npy\"))\n",
    "        self.infomax300 = np.load(os.path.join(self.path_data, \"infomax300.train.npy\"))\n",
    "        self.load_y()\n",
    "\n",
    "    def load_y(self):\n",
    "        y = np.load(os.path.join(self.path_data, f\"y_train.{feature_version}.npy\"))\n",
    "        self.y_train = np.log(self.pIC50_to_IC50(y))\n",
    "\n",
    "    @staticmethod\n",
    "    def pIC50_to_IC50(pic50_values):\n",
    "        return 10 ** (9 - pic50_values)\n",
    "\n",
    "    def load_data(self, is_infomax300: bool, is_fps2048_desc170: bool) -> Tuple[np.ndarray, np.ndarray]:\n",
    "        if is_infomax300 and is_fps2048_desc170:\n",
    "            X = np.hstack((self.fps2048_desc170, self.infomax300))\n",
    "        elif is_infomax300:\n",
    "            X = self.infomax300\n",
    "        elif is_fps2048_desc170:\n",
    "            X = self.fps2048_desc170\n",
    "        else:\n",
    "            raise ValueError(\"At least one of is_infomax300 or is_fps2048_desc170 must be True\")\n",
    "        \n",
    "        return X, self.y_train\n",
    "\n",
    "    def load_test_data(self, is_infomax300: bool, is_fps2048_desc170: bool) -> np.ndarray:\n",
    "        fps2048_desc170_test = np.load(os.path.join(self.path_data, f\"X_test.{feature_version}.npy\"))\n",
    "        infomax300_test = np.load(os.path.join(self.path_data, \"infomax300.test.npy\"))\n",
    "\n",
    "        if is_infomax300 and is_fps2048_desc170:\n",
    "            X_test = np.hstack((fps2048_desc170_test, infomax300_test))\n",
    "        elif is_infomax300:\n",
    "            X_test = infomax300_test\n",
    "        elif is_fps2048_desc170:\n",
    "            X_test = fps2048_desc170_test\n",
    "        else:\n",
    "            raise ValueError(\"At least one of is_infomax300 or is_fps2048_desc170 must be True\")\n",
    "\n",
    "        return X_test\n",
    "    \n",
    "    def fit_scaler(self, X: np.ndarray):\n",
    "        self.scaler = StandardScaler().fit(X)\n",
    "\n",
    "    def preprocess_data(self, X: np.ndarray, y: Optional[np.ndarray] = None) -> Tuple[torch.Tensor, Optional[torch.Tensor]]:\n",
    "        if y is not None:\n",
    "            return torch.FloatTensor(self.scaler.transform(X)), torch.FloatTensor(y)\n",
    "        else:\n",
    "            return torch.FloatTensor(self.scaler.transform(X)), None"
   ]
  },
  {
   "cell_type": "code",
   "execution_count": 7,
   "metadata": {},
   "outputs": [],
   "source": [
    "feature_version = \"feat_v0\"\n",
    "path_data = \"./data\"\n",
    "\n",
    "data_handler = DataHandler(feature_version, path_data)\n",
    "\n",
    "X, y = data_handler.load_data(is_infomax300, is_fps2048_desc170)"
   ]
  },
  {
   "cell_type": "code",
   "execution_count": 8,
   "metadata": {},
   "outputs": [
    {
     "data": {
      "text/plain": [
       "((1952, 2518), (1952,))"
      ]
     },
     "execution_count": 8,
     "metadata": {},
     "output_type": "execute_result"
    }
   ],
   "source": [
    "X.shape, y.shape"
   ]
  },
  {
   "cell_type": "markdown",
   "metadata": {},
   "source": [
    "## Load Model"
   ]
  },
  {
   "cell_type": "code",
   "execution_count": 9,
   "metadata": {},
   "outputs": [],
   "source": [
    "# Model definition\n",
    "class MLP(nn.Module):\n",
    "    def __init__(self, input_dim: int, hidden_dims: List[int], dropout_rate: float):\n",
    "        torch.manual_seed(42)\n",
    "        super(MLP, self).__init__()\n",
    "        layers = []\n",
    "        prev_dim = input_dim\n",
    "        for hidden_dim in hidden_dims:\n",
    "            layers.extend([\n",
    "                nn.Linear(prev_dim, hidden_dim),\n",
    "                nn.ReLU(),\n",
    "                nn.Dropout(dropout_rate)\n",
    "            ])\n",
    "            prev_dim = hidden_dim\n",
    "        layers.append(nn.Linear(prev_dim, 1))\n",
    "        self.model = nn.Sequential(*layers)\n",
    "\n",
    "    def forward(self, x: torch.Tensor) -> torch.Tensor:\n",
    "        return self.model(x)"
   ]
  },
  {
   "cell_type": "code",
   "execution_count": 10,
   "metadata": {},
   "outputs": [
    {
     "data": {
      "text/plain": [
       "MLP(\n",
       "  (model): Sequential(\n",
       "    (0): Linear(in_features=2518, out_features=2123, bias=True)\n",
       "    (1): ReLU()\n",
       "    (2): Dropout(p=0.5, inplace=False)\n",
       "    (3): Linear(in_features=2123, out_features=1729, bias=True)\n",
       "    (4): ReLU()\n",
       "    (5): Dropout(p=0.5, inplace=False)\n",
       "    (6): Linear(in_features=1729, out_features=1, bias=True)\n",
       "  )\n",
       ")"
      ]
     },
     "execution_count": 10,
     "metadata": {},
     "output_type": "execute_result"
    }
   ],
   "source": [
    "input_dim = X.shape[1]\n",
    "hidden_dims = [int(input_dim * (1 - (1 - layer_ratio) * i / num_layers)) \n",
    "            for i in range(1, num_layers)]\n",
    "\n",
    "model = MLP(input_dim = input_dim, hidden_dims=hidden_dims, dropout_rate=dropout_rate)\n",
    "\n",
    "model.load_state_dict(torch.load(\n",
    "    \"./submitted/submisstion_model.pth\",\n",
    "    map_location = device,\n",
    "    weights_only=False,\n",
    "))\n",
    "\n",
    "model.eval()"
   ]
  },
  {
   "cell_type": "markdown",
   "metadata": {},
   "source": [
    "## Predict"
   ]
  },
  {
   "cell_type": "code",
   "execution_count": 11,
   "metadata": {},
   "outputs": [],
   "source": [
    "n_fold = 5\n",
    "fold_idx = 3 # trial 7 fold 4\n",
    "\n",
    "kfold = StratifiedKFold(n_splits=n_fold, shuffle=True, random_state=42)\n",
    "y_binned = KBinsDiscretizer(n_bins=n_fold, encode='ordinal', strategy='quantile').fit_transform(y.reshape(-1, 1))\n",
    "\n",
    "train_idx, val_idx = list(kfold.split(X, y_binned))[fold_idx]\n",
    "\n",
    "X_train, X_val = X[train_idx], X[val_idx]\n",
    "y_train, y_val = y[train_idx], y[val_idx]"
   ]
  },
  {
   "cell_type": "code",
   "execution_count": 12,
   "metadata": {},
   "outputs": [],
   "source": [
    "# train data로 부터 fit한 scaler를 사용하여 x_test normalize\n",
    "data_handler.fit_scaler(X_train)\n",
    "X_test = data_handler.load_test_data(is_infomax300, is_fps2048_desc170)\n",
    "\n",
    "X_test_scaled, _ = data_handler.preprocess_data(X_test)\n",
    "y_pred = model(X_test_scaled).detach().cpu().numpy().reshape(-1,)\n",
    "\n",
    "df_submit = pd.read_csv(\"./sample_submission.csv\")\n",
    "df_submit['IC50_nM'] = np.exp(y_pred)"
   ]
  },
  {
   "cell_type": "code",
   "execution_count": 13,
   "metadata": {},
   "outputs": [
    {
     "data": {
      "text/plain": [
       "0      207.308990\n",
       "1       17.576488\n",
       "2       23.412319\n",
       "3       67.716873\n",
       "4       45.156281\n",
       "          ...    \n",
       "108     11.402204\n",
       "109      7.063308\n",
       "110     32.437210\n",
       "111     41.173954\n",
       "112     40.979328\n",
       "Name: IC50_nM, Length: 113, dtype: float32"
      ]
     },
     "execution_count": 13,
     "metadata": {},
     "output_type": "execute_result"
    }
   ],
   "source": [
    "df_submit['IC50_nM'] "
   ]
  },
  {
   "cell_type": "code",
   "execution_count": 14,
   "metadata": {},
   "outputs": [
    {
     "data": {
      "text/html": [
       "<div>\n",
       "<style scoped>\n",
       "    .dataframe tbody tr th:only-of-type {\n",
       "        vertical-align: middle;\n",
       "    }\n",
       "\n",
       "    .dataframe tbody tr th {\n",
       "        vertical-align: top;\n",
       "    }\n",
       "\n",
       "    .dataframe thead th {\n",
       "        text-align: right;\n",
       "    }\n",
       "</style>\n",
       "<table border=\"1\" class=\"dataframe\">\n",
       "  <thead>\n",
       "    <tr style=\"text-align: right;\">\n",
       "      <th></th>\n",
       "      <th>ID</th>\n",
       "      <th>IC50_nM</th>\n",
       "    </tr>\n",
       "  </thead>\n",
       "  <tbody>\n",
       "    <tr>\n",
       "      <th>0</th>\n",
       "      <td>TEST_000</td>\n",
       "      <td>207.308990</td>\n",
       "    </tr>\n",
       "    <tr>\n",
       "      <th>1</th>\n",
       "      <td>TEST_001</td>\n",
       "      <td>17.576488</td>\n",
       "    </tr>\n",
       "    <tr>\n",
       "      <th>2</th>\n",
       "      <td>TEST_002</td>\n",
       "      <td>23.412320</td>\n",
       "    </tr>\n",
       "    <tr>\n",
       "      <th>3</th>\n",
       "      <td>TEST_003</td>\n",
       "      <td>67.716870</td>\n",
       "    </tr>\n",
       "    <tr>\n",
       "      <th>4</th>\n",
       "      <td>TEST_004</td>\n",
       "      <td>45.156280</td>\n",
       "    </tr>\n",
       "    <tr>\n",
       "      <th>...</th>\n",
       "      <td>...</td>\n",
       "      <td>...</td>\n",
       "    </tr>\n",
       "    <tr>\n",
       "      <th>108</th>\n",
       "      <td>TEST_108</td>\n",
       "      <td>11.402204</td>\n",
       "    </tr>\n",
       "    <tr>\n",
       "      <th>109</th>\n",
       "      <td>TEST_109</td>\n",
       "      <td>7.063308</td>\n",
       "    </tr>\n",
       "    <tr>\n",
       "      <th>110</th>\n",
       "      <td>TEST_110</td>\n",
       "      <td>32.437210</td>\n",
       "    </tr>\n",
       "    <tr>\n",
       "      <th>111</th>\n",
       "      <td>TEST_111</td>\n",
       "      <td>41.173954</td>\n",
       "    </tr>\n",
       "    <tr>\n",
       "      <th>112</th>\n",
       "      <td>TEST_112</td>\n",
       "      <td>40.979330</td>\n",
       "    </tr>\n",
       "  </tbody>\n",
       "</table>\n",
       "<p>113 rows × 2 columns</p>\n",
       "</div>"
      ],
      "text/plain": [
       "           ID     IC50_nM\n",
       "0    TEST_000  207.308990\n",
       "1    TEST_001   17.576488\n",
       "2    TEST_002   23.412320\n",
       "3    TEST_003   67.716870\n",
       "4    TEST_004   45.156280\n",
       "..        ...         ...\n",
       "108  TEST_108   11.402204\n",
       "109  TEST_109    7.063308\n",
       "110  TEST_110   32.437210\n",
       "111  TEST_111   41.173954\n",
       "112  TEST_112   40.979330\n",
       "\n",
       "[113 rows x 2 columns]"
      ]
     },
     "execution_count": 14,
     "metadata": {},
     "output_type": "execute_result"
    }
   ],
   "source": [
    "# 리더보드 제출 파일\n",
    "final_submission = pd.read_csv('./submitted/final_submisstion.csv')\n",
    "final_submission"
   ]
  },
  {
   "cell_type": "markdown",
   "metadata": {},
   "source": [
    "## Compare"
   ]
  },
  {
   "cell_type": "code",
   "execution_count": 15,
   "metadata": {},
   "outputs": [
    {
     "name": "stdout",
     "output_type": "stream",
     "text": [
      "Discrepancy = -1.7569335964751076e-05 ~= -0.0\n"
     ]
    }
   ],
   "source": [
    "# discrepancy\n",
    "discrepancy = (df_submit.IC50_nM - final_submission.IC50_nM).sum()\n",
    "print(\"Discrepancy =\", discrepancy, \"~=\", discrepancy.round(4))"
   ]
  }
 ],
 "metadata": {
  "kernelspec": {
   "display_name": "Python 3 (ipykernel)",
   "language": "python",
   "name": "python3"
  },
  "language_info": {
   "codemirror_mode": {
    "name": "ipython",
    "version": 3
   },
   "file_extension": ".py",
   "mimetype": "text/x-python",
   "name": "python",
   "nbconvert_exporter": "python",
   "pygments_lexer": "ipython3",
   "version": "3.12.0"
  }
 },
 "nbformat": 4,
 "nbformat_minor": 4
}
